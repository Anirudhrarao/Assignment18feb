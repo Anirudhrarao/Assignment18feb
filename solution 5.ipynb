{
 "cells": [
  {
   "cell_type": "markdown",
   "id": "eecb5967",
   "metadata": {},
   "source": [
    "### Difference betweeb REST and SOAP"
   ]
  },
  {
   "cell_type": "markdown",
   "id": "29c19678",
   "metadata": {},
   "source": [
    "#### REST\n",
    "* An architectural style protocol.\n",
    "* use xml and json to send and receive data.\n",
    "* simply call services via url.\n",
    "* uses HTTP only"
   ]
  },
  {
   "cell_type": "markdown",
   "id": "54eb6976",
   "metadata": {},
   "source": [
    "#### SOAP\n",
    "* A xml-based message protocol.\n",
    "* use WSDL for communication between consumer and provider.\n",
    "* invoke services by calling rpc method.\n",
    "* uses HTTP,SMTP,TCP, etc"
   ]
  },
  {
   "cell_type": "code",
   "execution_count": null,
   "id": "29945cc1",
   "metadata": {},
   "outputs": [],
   "source": []
  }
 ],
 "metadata": {
  "kernelspec": {
   "display_name": "Python 3 (ipykernel)",
   "language": "python",
   "name": "python3"
  },
  "language_info": {
   "codemirror_mode": {
    "name": "ipython",
    "version": 3
   },
   "file_extension": ".py",
   "mimetype": "text/x-python",
   "name": "python",
   "nbconvert_exporter": "python",
   "pygments_lexer": "ipython3",
   "version": "3.11.1"
  }
 },
 "nbformat": 4,
 "nbformat_minor": 5
}
