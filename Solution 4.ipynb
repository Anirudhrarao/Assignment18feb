{
 "cells": [
  {
   "cell_type": "markdown",
   "id": "02fed936",
   "metadata": {},
   "source": [
    "### Explain REST and SOAP Architecture. Mention shortcomings of SOAP."
   ]
  },
  {
   "cell_type": "markdown",
   "id": "fa2616d0",
   "metadata": {},
   "source": [
    "#### REST"
   ]
  },
  {
   "cell_type": "markdown",
   "id": "9de6151b",
   "metadata": {},
   "source": [
    "* REST stands for representational state transfer.\n",
    "* It defines set of rule for web services.\n",
    "* The rest architecture style uses HTTP to request access and use data.\n",
    "* A rest consist of client and server system. "
   ]
  },
  {
   "cell_type": "markdown",
   "id": "f7867dd8",
   "metadata": {},
   "source": [
    "#### SOAP"
   ]
  },
  {
   "cell_type": "markdown",
   "id": "53167da1",
   "metadata": {},
   "source": [
    "* SOAP stands for simple object acess protocol.\n",
    "* SOAP uses an xml data format to declare its request and response messages.\n",
    "* it provides security, messaging, transaction, metadata etc"
   ]
  },
  {
   "cell_type": "code",
   "execution_count": null,
   "id": "f5c4dc34",
   "metadata": {},
   "outputs": [],
   "source": []
  }
 ],
 "metadata": {
  "kernelspec": {
   "display_name": "Python 3 (ipykernel)",
   "language": "python",
   "name": "python3"
  },
  "language_info": {
   "codemirror_mode": {
    "name": "ipython",
    "version": 3
   },
   "file_extension": ".py",
   "mimetype": "text/x-python",
   "name": "python",
   "nbconvert_exporter": "python",
   "pygments_lexer": "ipython3",
   "version": "3.11.1"
  }
 },
 "nbformat": 4,
 "nbformat_minor": 5
}
