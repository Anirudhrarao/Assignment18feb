{
 "cells": [
  {
   "cell_type": "markdown",
   "id": "86b193db",
   "metadata": {},
   "source": [
    "### Give advantages and disadvantages of using API."
   ]
  },
  {
   "cell_type": "markdown",
   "id": "85c170c1",
   "metadata": {},
   "source": [
    "#### Advantage:"
   ]
  },
  {
   "cell_type": "markdown",
   "id": "128d52e5",
   "metadata": {},
   "source": [
    "* Speed up development.\n",
    "* Automate the task.\n",
    "* New data available\n",
    "* Integration: APIs allow content to be embedded from any site or application more easily.\n",
    "* Efficiency"
   ]
  },
  {
   "cell_type": "markdown",
   "id": "62464e68",
   "metadata": {},
   "source": [
    "#### Disavdvantage:"
   ]
  },
  {
   "cell_type": "markdown",
   "id": "487251e2",
   "metadata": {},
   "source": [
    "* Creating api is time consuming process.\n",
    "* A fixed scale is necessary.\n",
    "* Maintenance cost is very high.\n",
    "* More generation = loss of control."
   ]
  },
  {
   "cell_type": "code",
   "execution_count": null,
   "id": "4c01a52f",
   "metadata": {},
   "outputs": [],
   "source": []
  }
 ],
 "metadata": {
  "kernelspec": {
   "display_name": "Python 3 (ipykernel)",
   "language": "python",
   "name": "python3"
  },
  "language_info": {
   "codemirror_mode": {
    "name": "ipython",
    "version": 3
   },
   "file_extension": ".py",
   "mimetype": "text/x-python",
   "name": "python",
   "nbconvert_exporter": "python",
   "pygments_lexer": "ipython3",
   "version": "3.11.1"
  }
 },
 "nbformat": 4,
 "nbformat_minor": 5
}
