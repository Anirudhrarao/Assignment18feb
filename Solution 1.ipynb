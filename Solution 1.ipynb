{
 "cells": [
  {
   "cell_type": "markdown",
   "id": "e526e338",
   "metadata": {},
   "source": [
    "### What is an API? Give an example, where an API is used in real life."
   ]
  },
  {
   "cell_type": "markdown",
   "id": "516718e1",
   "metadata": {},
   "source": [
    "* An API is mechanism enable two software component to communicate with each other using a set of defination and protocols.\n",
    "* For Example the weather api that contains daily weather's data.\n",
    "* APIs are used to integrate new applications with existing software systems.\n",
    "* This increases speed of development because we each functionality doesn't have to be written from scratch."
   ]
  }
 ],
 "metadata": {
  "kernelspec": {
   "display_name": "Python 3 (ipykernel)",
   "language": "python",
   "name": "python3"
  },
  "language_info": {
   "codemirror_mode": {
    "name": "ipython",
    "version": 3
   },
   "file_extension": ".py",
   "mimetype": "text/x-python",
   "name": "python",
   "nbconvert_exporter": "python",
   "pygments_lexer": "ipython3",
   "version": "3.11.1"
  }
 },
 "nbformat": 4,
 "nbformat_minor": 5
}
