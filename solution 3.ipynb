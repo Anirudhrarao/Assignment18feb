{
 "cells": [
  {
   "cell_type": "markdown",
   "id": "a457966b",
   "metadata": {},
   "source": [
    "### What is a Web API? Differentiate between API and Web API."
   ]
  },
  {
   "cell_type": "markdown",
   "id": "24d7c951",
   "metadata": {},
   "source": [
    "* A web API is Application programming interface for web which extend functionality of web and provides web services on HTTP protocol.\n",
    "* It provide Client-server system.\n",
    "* Client will send request to server in the url form and server will response and gives result to client."
   ]
  },
  {
   "cell_type": "markdown",
   "id": "f60828a3",
   "metadata": {},
   "source": [
    "#### API:\n",
    "* API that made on TCP,SMTP,HTTP protocols.\n",
    "* API can use any style of communication.\n",
    "* All api are not web api.\n",
    "* Support xml,json, etc\n",
    "#### WEB API:\n",
    "* All web api are api.\n",
    "* API that made on HTTP Protocol.\n",
    "* It require interface for communication between two different system.\n",
    "* Uses three style of communications i.e REST,SOAP,XML-RPC.\n",
    "* Support xml"
   ]
  },
  {
   "cell_type": "code",
   "execution_count": null,
   "id": "946081b5",
   "metadata": {},
   "outputs": [],
   "source": []
  }
 ],
 "metadata": {
  "kernelspec": {
   "display_name": "Python 3 (ipykernel)",
   "language": "python",
   "name": "python3"
  },
  "language_info": {
   "codemirror_mode": {
    "name": "ipython",
    "version": 3
   },
   "file_extension": ".py",
   "mimetype": "text/x-python",
   "name": "python",
   "nbconvert_exporter": "python",
   "pygments_lexer": "ipython3",
   "version": "3.11.1"
  }
 },
 "nbformat": 4,
 "nbformat_minor": 5
}
